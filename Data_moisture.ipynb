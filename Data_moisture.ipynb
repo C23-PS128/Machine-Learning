{
  "nbformat": 4,
  "nbformat_minor": 0,
  "metadata": {
    "colab": {
      "provenance": []
    },
    "kernelspec": {
      "name": "python3",
      "display_name": "Python 3"
    },
    "language_info": {
      "name": "python"
    }
  },
  "cells": [
    {
      "cell_type": "code",
      "execution_count": 39,
      "metadata": {
        "colab": {
          "base_uri": "https://localhost:8080/"
        },
        "id": "TanEtKdaMrgv",
        "outputId": "34388f4a-2b0e-43ed-f075-6e66b1c085cd"
      },
      "outputs": [
        {
          "output_type": "stream",
          "name": "stdout",
          "text": [
            "Drive already mounted at /content/drive; to attempt to forcibly remount, call drive.mount(\"/content/drive\", force_remount=True).\n"
          ]
        }
      ],
      "source": [
        "from google.colab import drive\n",
        "drive.mount('/content/drive')"
      ]
    },
    {
      "cell_type": "code",
      "source": [
        "import os\n",
        "import logging\n",
        "import tensorflow as tf\n",
        "import matplotlib.pyplot as plt\n",
        "import numpy as np\n",
        "# from efficientnet.keras import preprocess_input\n",
        "from keras.models import load_model\n",
        "from tensorflow.keras.layers import Input\n",
        "from tensorflow.keras.models import Model, Sequential\n",
        "from tensorflow.keras.layers import Input, Layer, ReLU, Conv2D, MaxPooling2D, GlobalAveragePooling2D, Dense, Add, Concatenate, Dropout\n",
        "from tensorflow.keras.models import Model\n",
        "from tensorflow.keras.applications import DenseNet121\n",
        "from tensorflow.keras.applications.vgg16 import VGG16\n",
        "from tensorflow.keras.applications.vgg16 import preprocess_input\n",
        "from tensorflow.keras.preprocessing import image\n",
        "from tensorflow.keras.preprocessing.image import ImageDataGenerator\n",
        "from tensorflow.keras.models import Sequential\n",
        "from tensorflow.keras.callbacks import EarlyStopping\n",
        "from sklearn.metrics import accuracy_score,classification_report,confusion_matrix,ConfusionMatrixDisplay\n",
        "from tensorflow.keras.applications.densenet import preprocess_input\n",
        "from tensorflow.keras.optimizers import Adam\n",
        "from tensorflow.keras.callbacks import ModelCheckpoint, ReduceLROnPlateau\n",
        "from tensorflow.keras.layers import Input, AveragePooling2D, ReLU, AlphaDropout, Conv2D, GlobalAveragePooling2D, Dense, Add, Concatenate, Dropout\n",
        "from tensorflow.keras.models import Model\n",
        "from tensorflow.keras.applications import InceptionV3, VGG16, MobileNetV2, ResNet50V2\n",
        "from tensorflow.keras.applications.inception_v3 import preprocess_input\n",
        "from tensorflow.keras.preprocessing import image\n",
        "from tensorflow.keras.preprocessing.image import ImageDataGenerator\n",
        "from tensorflow.keras.models import Sequential\n",
        "from tensorflow.keras.callbacks import EarlyStopping\n",
        "from sklearn.metrics import accuracy_score,classification_report,confusion_matrix,ConfusionMatrixDisplay\n",
        "from tensorflow.keras.optimizers import Adam, SGD\n",
        "from tensorflow.keras.callbacks import ModelCheckpoint, ReduceLROnPlateau\n",
        "\n",
        "import tensorflow as tf\n",
        "import numpy as np\n",
        "import pandas as pd\n",
        "import matplotlib.pyplot as plt\n",
        "\n",
        "import tensorflow as tf\n",
        "import numpy as np\n",
        "import pandas as pd\n",
        "import matplotlib.pyplot as plt\n",
        "# from keras.utils import load_img, img_to_array\n",
        "\n",
        "tf.get_logger().setLevel(logging.ERROR)\n",
        "\n",
        "os.environ['TF_CPP_MIN_LOG_LEVEL'] = '3' "
      ],
      "metadata": {
        "id": "iBxVGSF-Plyi"
      },
      "execution_count": 40,
      "outputs": []
    },
    {
      "cell_type": "code",
      "source": [
        "img_rows, img_cols = 224, 224\n",
        "channel_depth = 3\n",
        "input_shape = (img_rows,img_cols,channel_depth)\n",
        "model_input = Input(shape=input_shape)"
      ],
      "metadata": {
        "id": "j0r8nm4nhTR6"
      },
      "execution_count": 41,
      "outputs": []
    },
    {
      "cell_type": "markdown",
      "source": [
        "**DenseNet121**"
      ],
      "metadata": {
        "id": "gSF_uxu0jVSm"
      }
    },
    {
      "cell_type": "code",
      "source": [
        "def my_model1(model_input):\n",
        "    densenet = DenseNet121(weights='imagenet', include_top=False, input_tensor=model_input)\n",
        "    for layer in densenet.layers:layer.trainable = False\n",
        "    # our layers - you can add more if you want\n",
        "    y = GlobalAveragePooling2D()(densenet.output)\n",
        "    y = Dense(512, activation='relu', use_bias=True)(y)\n",
        "    y = Dropout(0.5)(y)\n",
        "    prediction = Dense(5,activation='softmax')(y)\n",
        "    model = Model(inputs=densenet.input, outputs=prediction)\n",
        "    # tell the model what cost and optimization method to use\n",
        "    return model"
      ],
      "metadata": {
        "id": "l-kH8jkbhqqo"
      },
      "execution_count": 42,
      "outputs": []
    },
    {
      "cell_type": "code",
      "source": [
        "model1 = my_model1(model_input)"
      ],
      "metadata": {
        "id": "oKcjHlZijcal"
      },
      "execution_count": 43,
      "outputs": []
    },
    {
      "cell_type": "markdown",
      "source": [
        "**InceptionV3**"
      ],
      "metadata": {
        "id": "HYx9-MBJmrUr"
      }
    },
    {
      "cell_type": "code",
      "source": [
        "def my_model2(model_input):\n",
        "    InceptionV3_builder = InceptionV3(\n",
        "        weights='imagenet', \n",
        "        include_top=False, \n",
        "        input_tensor = model_input\n",
        "    )\n",
        "\n",
        "#FINE-TUNING\n",
        "    for layer in InceptionV3_builder.layers:\n",
        "        layer.trainable = False\n",
        "    for BatchNormalization in InceptionV3_builder.layers:\n",
        "        BatchNormalization.trainable = True\n",
        "    x = InceptionV3_builder.layers[-1].output    \n",
        "    x = GlobalAveragePooling2D(name='GAP-inceptionv3')(x)\n",
        "    x = Dropout(0.5, name='Droput-inceptionv3')(x)\n",
        "    predictions = Dense(5, activation='softmax', name='Softmax-inceptionv3')(x)\n",
        "    model = Model(inputs=InceptionV3_builder.input, outputs=predictions, name='inceptionv3')\n",
        "    return model"
      ],
      "metadata": {
        "id": "GrDiFvlomxYn"
      },
      "execution_count": 44,
      "outputs": []
    },
    {
      "cell_type": "code",
      "source": [
        "model2 = my_model2(model_input)"
      ],
      "metadata": {
        "id": "pzW3SdM_m81_"
      },
      "execution_count": 45,
      "outputs": []
    },
    {
      "cell_type": "markdown",
      "source": [
        "**VGG16**\n"
      ],
      "metadata": {
        "id": "26PXCGzm0G4V"
      }
    },
    {
      "cell_type": "code",
      "source": [
        "def my_model3(model_input):\n",
        "    densenet = VGG16(weights='imagenet', include_top=False, input_tensor=model_input)\n",
        "    for layer in densenet.layers:layer.trainable = False\n",
        "    # our layers - you can add more if you want\n",
        "    y = GlobalAveragePooling2D()(densenet.output)\n",
        "    y = Dense(512, activation='relu', use_bias=True)(y)\n",
        "    y = Dropout(0.5)(y)\n",
        "    prediction = Dense(5,activation='softmax')(y)\n",
        "    model = Model(inputs=densenet.input, outputs=prediction)\n",
        "    # tell the model what cost and optimization method to use\n",
        "    return model"
      ],
      "metadata": {
        "id": "RSS9z1xW2Ftt"
      },
      "execution_count": 46,
      "outputs": []
    },
    {
      "cell_type": "code",
      "source": [
        "model3 = my_model3(model_input)"
      ],
      "metadata": {
        "colab": {
          "base_uri": "https://localhost:8080/"
        },
        "id": "4lBgFglp2MiJ",
        "outputId": "664b5fd0-22c5-4380-9caf-2714bf24e8a2"
      },
      "execution_count": 47,
      "outputs": [
        {
          "output_type": "stream",
          "name": "stdout",
          "text": [
            "Downloading data from https://storage.googleapis.com/tensorflow/keras-applications/vgg16/vgg16_weights_tf_dim_ordering_tf_kernels_notop.h5\n",
            "58889256/58889256 [==============================] - 0s 0us/step\n"
          ]
        }
      ]
    },
    {
      "cell_type": "markdown",
      "source": [
        "**Fusion Model**"
      ],
      "metadata": {
        "id": "MkehdPh_2Pwo"
      }
    },
    {
      "cell_type": "code",
      "source": [
        "models = [model1, model2, model3]"
      ],
      "metadata": {
        "id": "itLD05yn2Vpt"
      },
      "execution_count": 48,
      "outputs": []
    },
    {
      "cell_type": "code",
      "source": [
        "[m.layers[0] for m in models]"
      ],
      "metadata": {
        "colab": {
          "base_uri": "https://localhost:8080/"
        },
        "id": "b-7A2IOz2bLu",
        "outputId": "c5666ee8-54b9-45bc-a69d-6c0ad08590a9"
      },
      "execution_count": 49,
      "outputs": [
        {
          "output_type": "execute_result",
          "data": {
            "text/plain": [
              "[<keras.engine.input_layer.InputLayer at 0x7f6cf14e4820>,\n",
              " <keras.engine.input_layer.InputLayer at 0x7f6cf14e4820>,\n",
              " <keras.engine.input_layer.InputLayer at 0x7f6cf14e4820>]"
            ]
          },
          "metadata": {},
          "execution_count": 49
        }
      ]
    },
    {
      "cell_type": "code",
      "source": [
        "outputs = [m.output for m in models]\n",
        "y = tf.keras.layers.Average()(outputs)\n",
        "TDCNN = Model(model_input, y, name='TDCNN')"
      ],
      "metadata": {
        "id": "u4xmgbn62fKf"
      },
      "execution_count": 50,
      "outputs": []
    },
    {
      "cell_type": "markdown",
      "source": [
        "**Pre-processing the images**\n"
      ],
      "metadata": {
        "id": "DlE7l8SgkT3a"
      }
    },
    {
      "cell_type": "code",
      "source": [
        "train_path=\"/content/drive/MyDrive/Data1/train\"\n",
        "validation_path= \"/content/drive/MyDrive/Data1/val\"\n",
        "test_path=\"/content/drive/MyDrive/Data1/test\""
      ],
      "metadata": {
        "id": "wPhxaDXzkWal"
      },
      "execution_count": 55,
      "outputs": []
    },
    {
      "cell_type": "code",
      "source": [
        "IMG_SIZE = (224,224)\n",
        "\n",
        "def ImgDataGen(file_path, f=False):\n",
        "    file_datagen = ImageDataGenerator(preprocessing_function=preprocess_input)\n",
        "    \n",
        "    data_set = file_datagen.flow_from_directory(file_path,\n",
        "                                                target_size = IMG_SIZE,\n",
        "                                                batch_size = 16,\n",
        "                                                class_mode = 'categorical',\n",
        "                                                shuffle = f)\n",
        "    return data_set"
      ],
      "metadata": {
        "id": "zgvb6YU8RrsH"
      },
      "execution_count": 56,
      "outputs": []
    },
    {
      "cell_type": "code",
      "source": [
        "training_set, val_set, test_set = ImgDataGen(train_path,f=True), ImgDataGen(validation_path), ImgDataGen(test_path) "
      ],
      "metadata": {
        "colab": {
          "base_uri": "https://localhost:8080/"
        },
        "id": "yMePY6o4XX77",
        "outputId": "3777ddaf-bfcb-48ac-c819-d73aeaaf9ddd"
      },
      "execution_count": 57,
      "outputs": [
        {
          "output_type": "stream",
          "name": "stdout",
          "text": [
            "Found 324 images belonging to 5 classes.\n",
            "Found 92 images belonging to 5 classes.\n",
            "Found 50 images belonging to 5 classes.\n"
          ]
        }
      ]
    },
    {
      "cell_type": "code",
      "source": [
        "nb_train_samples = len(training_set.filenames)\n",
        "nb_validation_samples = len(val_set.filenames)\n",
        "nb_test_samples = len(test_set.filenames)\n",
        "num_classes= len(training_set.class_indices)\n",
        "labels = [i for i in training_set.class_indices]\n",
        "print(labels)\n",
        "labels = ['13 %','13.2 %', '14 %', '15 %', '> 15 %']"
      ],
      "metadata": {
        "colab": {
          "base_uri": "https://localhost:8080/"
        },
        "id": "ZtXS5Yefehap",
        "outputId": "4ed5af16-379c-41de-e1e7-47ce46dd9936"
      },
      "execution_count": 58,
      "outputs": [
        {
          "output_type": "stream",
          "name": "stdout",
          "text": [
            "['0_13', '1_13.2', '2_14', '3_15', '4_15 (higher)']\n"
          ]
        }
      ]
    },
    {
      "cell_type": "markdown",
      "source": [
        "**Train the model**"
      ],
      "metadata": {
        "id": "mUHyXk13e7kO"
      }
    },
    {
      "cell_type": "code",
      "source": [
        "#MODEL COMPILATION WITH HYPER-PARAMETERS, LOSS FUNCTIONS AND TRAINING!\n",
        "import time\n",
        "\n",
        "batch_size = 16\n",
        "\n",
        "epochs = 25\n",
        "\n",
        "start_time = time.time()\n",
        "\n",
        "optimizer = Adam(learning_rate=0.0001)\n",
        "\n",
        "TDCNN.compile(\n",
        "    optimizer=optimizer, \n",
        "    loss='categorical_crossentropy', \n",
        "    metrics=['accuracy']\n",
        ") \n",
        "\n",
        "reduce_lr = ReduceLROnPlateau(\n",
        "    monitor='val_accuracy', \n",
        "    factor=0.5, \n",
        "    patience=2,                          \n",
        "    verbose=1, \n",
        "    mode='max', \n",
        "    min_lr=0.000001\n",
        ")\n",
        "\n",
        "callbacks = [reduce_lr]\n",
        "\n",
        "history = TDCNN.fit(\n",
        "    training_set,\n",
        "    epochs=epochs, \n",
        "    steps_per_epoch=nb_train_samples // batch_size,\n",
        "    validation_data=val_set,\n",
        "    callbacks=callbacks, \n",
        "    validation_steps=nb_validation_samples // batch_size, \n",
        "    verbose=1\n",
        ")\n",
        "\n",
        "elapsed_time = time.time() - start_time\n",
        "time.strftime(\"%H:%M:%S\", time.gmtime(elapsed_time))"
      ],
      "metadata": {
        "colab": {
          "base_uri": "https://localhost:8080/",
          "height": 1000
        },
        "id": "nJOPpO8JesYc",
        "outputId": "34f7428b-a058-4e58-ccef-2f77fce729a1"
      },
      "execution_count": 59,
      "outputs": [
        {
          "output_type": "stream",
          "name": "stdout",
          "text": [
            "Epoch 1/25\n",
            "20/20 [==============================] - 369s 17s/step - loss: 1.4060 - accuracy: 0.4058 - val_loss: 1.4976 - val_accuracy: 0.3000 - lr: 1.0000e-04\n",
            "Epoch 2/25\n",
            "20/20 [==============================] - 352s 18s/step - loss: 1.0102 - accuracy: 0.7013 - val_loss: 1.4344 - val_accuracy: 0.3375 - lr: 1.0000e-04\n",
            "Epoch 3/25\n",
            "20/20 [==============================] - 350s 18s/step - loss: 0.7897 - accuracy: 0.8766 - val_loss: 1.2353 - val_accuracy: 0.4500 - lr: 1.0000e-04\n",
            "Epoch 4/25\n",
            "20/20 [==============================] - 350s 18s/step - loss: 0.7098 - accuracy: 0.9058 - val_loss: 1.0890 - val_accuracy: 0.5625 - lr: 1.0000e-04\n",
            "Epoch 5/25\n",
            "20/20 [==============================] - 345s 17s/step - loss: 0.6393 - accuracy: 0.9383 - val_loss: 1.0262 - val_accuracy: 0.6000 - lr: 1.0000e-04\n",
            "Epoch 6/25\n",
            "20/20 [==============================] - 348s 18s/step - loss: 0.5872 - accuracy: 0.9448 - val_loss: 0.8439 - val_accuracy: 0.7750 - lr: 1.0000e-04\n",
            "Epoch 7/25\n",
            "20/20 [==============================] - 345s 17s/step - loss: 0.5448 - accuracy: 0.9773 - val_loss: 0.7858 - val_accuracy: 0.8125 - lr: 1.0000e-04\n",
            "Epoch 8/25\n",
            "20/20 [==============================] - 315s 16s/step - loss: 0.5095 - accuracy: 0.9578 - val_loss: 0.7505 - val_accuracy: 0.8125 - lr: 1.0000e-04\n",
            "Epoch 9/25\n",
            "20/20 [==============================] - 347s 17s/step - loss: 0.5039 - accuracy: 0.9708 - val_loss: 0.7390 - val_accuracy: 0.8250 - lr: 1.0000e-04\n",
            "Epoch 10/25\n",
            "20/20 [==============================] - 316s 16s/step - loss: 0.5000 - accuracy: 0.9773 - val_loss: 0.7351 - val_accuracy: 0.7875 - lr: 1.0000e-04\n",
            "Epoch 11/25\n",
            "20/20 [==============================] - ETA: 0s - loss: 0.4645 - accuracy: 0.9740 \n",
            "Epoch 11: ReduceLROnPlateau reducing learning rate to 4.999999873689376e-05.\n",
            "20/20 [==============================] - 340s 17s/step - loss: 0.4645 - accuracy: 0.9740 - val_loss: 0.6711 - val_accuracy: 0.8250 - lr: 1.0000e-04\n",
            "Epoch 12/25\n",
            "20/20 [==============================] - 340s 17s/step - loss: 0.4414 - accuracy: 0.9675 - val_loss: 0.6215 - val_accuracy: 0.8625 - lr: 5.0000e-05\n",
            "Epoch 13/25\n",
            "20/20 [==============================] - 344s 17s/step - loss: 0.4316 - accuracy: 0.9903 - val_loss: 0.5762 - val_accuracy: 0.9125 - lr: 5.0000e-05\n",
            "Epoch 14/25\n",
            "20/20 [==============================] - 343s 17s/step - loss: 0.4272 - accuracy: 0.9805 - val_loss: 0.5632 - val_accuracy: 0.9500 - lr: 5.0000e-05\n",
            "Epoch 15/25\n",
            "20/20 [==============================] - 343s 17s/step - loss: 0.4153 - accuracy: 0.9773 - val_loss: 0.5516 - val_accuracy: 0.9750 - lr: 5.0000e-05\n",
            "Epoch 16/25\n",
            "20/20 [==============================] - 343s 17s/step - loss: 0.4079 - accuracy: 0.9740 - val_loss: 0.5838 - val_accuracy: 0.9000 - lr: 5.0000e-05\n",
            "Epoch 17/25\n",
            "20/20 [==============================] - ETA: 0s - loss: 0.4051 - accuracy: 0.9805 \n",
            "Epoch 17: ReduceLROnPlateau reducing learning rate to 2.499999936844688e-05.\n",
            "20/20 [==============================] - 343s 17s/step - loss: 0.4051 - accuracy: 0.9805 - val_loss: 0.5719 - val_accuracy: 0.9125 - lr: 5.0000e-05\n",
            "Epoch 18/25\n",
            "20/20 [==============================] - 341s 17s/step - loss: 0.3929 - accuracy: 0.9870 - val_loss: 0.5585 - val_accuracy: 0.9250 - lr: 2.5000e-05\n",
            "Epoch 19/25\n",
            "20/20 [==============================] - ETA: 0s - loss: 0.3959 - accuracy: 0.9870 \n",
            "Epoch 19: ReduceLROnPlateau reducing learning rate to 1.249999968422344e-05.\n",
            "20/20 [==============================] - 308s 15s/step - loss: 0.3959 - accuracy: 0.9870 - val_loss: 0.5533 - val_accuracy: 0.9500 - lr: 2.5000e-05\n",
            "Epoch 20/25\n",
            "20/20 [==============================] - 344s 17s/step - loss: 0.4027 - accuracy: 0.9773 - val_loss: 0.5541 - val_accuracy: 0.9500 - lr: 1.2500e-05\n",
            "Epoch 21/25\n",
            "20/20 [==============================] - ETA: 0s - loss: 0.3947 - accuracy: 0.9838 \n",
            "Epoch 21: ReduceLROnPlateau reducing learning rate to 6.24999984211172e-06.\n",
            "20/20 [==============================] - 344s 17s/step - loss: 0.3947 - accuracy: 0.9838 - val_loss: 0.5496 - val_accuracy: 0.9500 - lr: 1.2500e-05\n",
            "Epoch 22/25\n",
            "20/20 [==============================] - 344s 17s/step - loss: 0.3871 - accuracy: 0.9968 - val_loss: 0.5483 - val_accuracy: 0.9500 - lr: 6.2500e-06\n",
            "Epoch 23/25\n",
            "20/20 [==============================] - ETA: 0s - loss: 0.3875 - accuracy: 0.9903 \n",
            "Epoch 23: ReduceLROnPlateau reducing learning rate to 3.12499992105586e-06.\n",
            "20/20 [==============================] - 341s 17s/step - loss: 0.3875 - accuracy: 0.9903 - val_loss: 0.5470 - val_accuracy: 0.9500 - lr: 6.2500e-06\n",
            "Epoch 24/25\n",
            "20/20 [==============================] - 344s 17s/step - loss: 0.3861 - accuracy: 0.9838 - val_loss: 0.5478 - val_accuracy: 0.9500 - lr: 3.1250e-06\n",
            "Epoch 25/25\n",
            "20/20 [==============================] - ETA: 0s - loss: 0.4011 - accuracy: 0.9805 \n",
            "Epoch 25: ReduceLROnPlateau reducing learning rate to 1.56249996052793e-06.\n",
            "20/20 [==============================] - 343s 17s/step - loss: 0.4011 - accuracy: 0.9805 - val_loss: 0.5463 - val_accuracy: 0.9500 - lr: 3.1250e-06\n"
          ]
        },
        {
          "output_type": "execute_result",
          "data": {
            "text/plain": [
              "'02:29:00'"
            ],
            "application/vnd.google.colaboratory.intrinsic+json": {
              "type": "string"
            }
          },
          "metadata": {},
          "execution_count": 59
        }
      ]
    },
    {
      "cell_type": "markdown",
      "source": [
        "**Report**\n"
      ],
      "metadata": {
        "id": "FpO2bpL9ipZY"
      }
    },
    {
      "cell_type": "code",
      "source": [
        "# loss\n",
        "plt.plot(history.history['loss'], label='train loss')\n",
        "plt.plot(history.history['val_loss'], label='val loss')\n",
        "plt.legend()\n",
        "\n",
        "plt.savefig('vgg-loss-rps-1.png')\n",
        "plt.show()"
      ],
      "metadata": {
        "colab": {
          "base_uri": "https://localhost:8080/",
          "height": 430
        },
        "id": "9pB_Td2Siuyj",
        "outputId": "42f209f1-b5d2-4ad4-dc61-dcfd732ee8f0"
      },
      "execution_count": 60,
      "outputs": [
        {
          "output_type": "display_data",
          "data": {
            "text/plain": [
              "<Figure size 640x480 with 1 Axes>"
            ],
            "image/png": "[encoded data removed]"
          },
          "metadata": {}
        }
      ]
    },
    {
      "cell_type": "code",
      "source": [
        "# accuracies\n",
        "plt.plot(history.history['accuracy'], label='train acc')\n",
        "plt.plot(history.history['val_accuracy'], label='val acc')\n",
        "plt.legend()\n",
        "\n",
        "plt.savefig('vgg-acc-rps-1.png')\n",
        "plt.show()"
      ],
      "metadata": {
        "colab": {
          "base_uri": "https://localhost:8080/",
          "height": 430
        },
        "id": "LYPHAe8zi14M",
        "outputId": "4555cc9a-9dec-433e-b7a4-1df4750d3338"
      },
      "execution_count": 61,
      "outputs": [
        {
          "output_type": "display_data",
          "data": {
            "text/plain": [
              "<Figure size 640x480 with 1 Axes>"
            ],
            "image/png": "[encoded data removed]"
          },
          "metadata": {}
        }
      ]
    },
    {
      "cell_type": "code",
      "source": [
        "TDCNN.evaluate(test_set,batch_size=32)\n",
        "y_pred=TDCNN.predict(test_set)\n",
        "y_pred=np.argmax(y_pred,axis=1)\n",
        "accuracy_score(y_pred,test_set.classes)\n",
        "print(classification_report(y_pred,test_set.classes))\n",
        "\n",
        "import seaborn as sns\n",
        "\n",
        "# confusion_matrix\n",
        "index = labels\n",
        "columns = labels  \n",
        "cm = confusion_matrix(y_pred, test_set.classes)\n",
        "cm_df = pd.DataFrame(cm,columns,index)                      \n",
        "fig = plt.figure(figsize=(10,8),dpi=100)  \n",
        "fig = sns.heatmap(cm_df,cmap='Blues',annot=True, fmt=\"d\",linewidths=1, square=True)"
      ],
      "metadata": {
        "colab": {
          "base_uri": "https://localhost:8080/",
          "height": 925
        },
        "id": "yo2jwZcri5lp",
        "outputId": "dafef92a-4af2-4fac-8ab4-f5b54db4226f"
      },
      "execution_count": 62,
      "outputs": [
        {
          "output_type": "stream",
          "name": "stdout",
          "text": [
            "4/4 [==============================] - 31s 6s/step - loss: 0.4297 - accuracy: 0.9800\n",
            "4/4 [==============================] - 35s 7s/step\n",
            "              precision    recall  f1-score   support\n",
            "\n",
            "           0       0.90      1.00      0.95         9\n",
            "           1       1.00      1.00      1.00         8\n",
            "           2       1.00      1.00      1.00        12\n",
            "           3       1.00      0.91      0.95        11\n",
            "           4       1.00      1.00      1.00        10\n",
            "\n",
            "    accuracy                           0.98        50\n",
            "   macro avg       0.98      0.98      0.98        50\n",
            "weighted avg       0.98      0.98      0.98        50\n",
            "\n"
          ]
        },
        {
          "output_type": "display_data",
          "data": {
            "text/plain": [
              "<Figure size 1000x800 with 2 Axes>"
            ],
            "image/png": "[encoded data removed]"
          },
          "metadata": {}
        }
      ]
    },
    {
      "cell_type": "code",
      "source": [
        "image_format = 'svg' # e.g .png, .svg, etc.\n",
        "image_name = 'TDCNN'+'.svg'\n",
        "\n",
        "figure = fig.get_figure()  \n",
        "figure.savefig(image_name, format=image_format, dpi=1200) "
      ],
      "metadata": {
        "id": "QVXmIDYFjAUe"
      },
      "execution_count": 63,
      "outputs": []
    },
    {
      "cell_type": "markdown",
      "source": [
        "**Export the model**"
      ],
      "metadata": {
        "id": "qBJYhL60jJdo"
      }
    },
    {
      "cell_type": "code",
      "source": [
        "file_model = \"weights/TDCNN_1.h5\"\n",
        "tf.keras.models.save_model(TDCNN,file_model)"
      ],
      "metadata": {
        "id": "hWyyOkrAjNik"
      },
      "execution_count": 65,
      "outputs": []
    }
  ]
}